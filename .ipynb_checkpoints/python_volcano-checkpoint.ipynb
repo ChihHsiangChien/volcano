{
 "cells": [
  {
   "cell_type": "code",
   "execution_count": 10,
   "metadata": {
    "ExecuteTime": {
     "end_time": "2020-01-12T15:47:07.296900Z",
     "start_time": "2020-01-12T15:47:07.286296Z"
    }
   },
   "outputs": [],
   "source": [
    "import subprocess\n",
    "import datetime\n",
    "import os\n",
    "import time\n",
    "import requests\n",
    "\n",
    "import imageio\n",
    "from PIL import Image, ImageSequence\n",
    "from pygifsicle import optimize\n",
    "import numpy as np    \n"
   ]
  },
  {
   "cell_type": "code",
   "execution_count": 11,
   "metadata": {
    "ExecuteTime": {
     "end_time": "2020-01-12T15:47:07.955293Z",
     "start_time": "2020-01-12T15:47:07.946344Z"
    }
   },
   "outputs": [],
   "source": [
    "start = datetime.datetime(2020, 1, 12, 14, 0, 0)  #下載日期\n"
   ]
  },
  {
   "cell_type": "code",
   "execution_count": 12,
   "metadata": {},
   "outputs": [],
   "source": [
    "#可見光、彩色、色調強化、黑白、真實色\n",
    "mapTypes = [\n",
    "    'LCC_VIS_Gray_2750',\n",
    "    'LCC_IR1_CR_2750' ,\n",
    "    'LCC_IR1_MB_2750',\n",
    "    'LCC_IR1_Gray_2750',\n",
    "    'LCC_VIS_TRGB_2750']"
   ]
  },
  {
   "cell_type": "code",
   "execution_count": 13,
   "metadata": {},
   "outputs": [],
   "source": [
    "#下載衛星圖，先建立各層資料夾\n",
    "path = \"data/\"\n",
    "pathDay = start.strftime(path+\"%Y%m%d/\")\n",
    "\n",
    "if not os.path.isdir(path):  #檢查資料夾是否存在\n",
    "    os.mkdir(path)\n",
    "    \n",
    "if not os.path.isdir(pathDay):\n",
    "    os.mkdir(pathDay)\n",
    "    \n",
    "#建立各種mapType的資料夾\n",
    "for mapType in mapTypes:\n",
    "    pathSateType = pathDay + mapType +\"/\"\n",
    "    if not os.path.isdir(pathSateType):\n",
    "        os.mkdir(pathSateType)"
   ]
  },
  {
   "cell_type": "code",
   "execution_count": 25,
   "metadata": {
    "ExecuteTime": {
     "end_time": "2020-01-12T15:14:16.677585Z",
     "start_time": "2020-01-12T15:08:55.868209Z"
    },
    "scrolled": false
   },
   "outputs": [],
   "source": [
    "#從cwb下載衛星圖\n",
    "imgurl = \"https://www.cwb.gov.tw/Data/satellite/{}/{}-{}.jpg\"\n",
    "\n",
    "   \n",
    "#建立各種mapType的資料夾\n",
    "for mapType in mapTypes:\n",
    "    date = start\n",
    "    pathSateType = pathDay + mapType +\"/\"\n",
    "\n",
    "    for i in range(6*9):\n",
    "        mapTime = date.strftime( \"%Y-%m-%d-%H-%M\" )\n",
    "        fname = mapType + \"-\" + mapTime + \".jpg\"\n",
    "        res = requests.get(imgurl.format(mapType , mapType , mapTime))\n",
    "\n",
    "        with open(pathSateType + fname,'wb') as f:\n",
    "            f.write(res.content)\n",
    "        date = date + datetime.timedelta(minutes = 10)\n",
    "\n",
    "\n"
   ]
  },
  {
   "cell_type": "code",
   "execution_count": 6,
   "metadata": {},
   "outputs": [],
   "source": [
    "#裁切後製作成GIF\n",
    "left  = 1288\n",
    "top   = 1308\n",
    "right = 1560\n",
    "bottom= 2152\n",
    "\n",
    "ratio = .4\n",
    "image_w = int((right - left) * ratio )\n",
    "image_h = int((bottom - top) * ratio)\n",
    "\n",
    "image_size = (image_w , image_h)\n",
    "\n",
    "for mapType in mapTypes:\n",
    "\n",
    "    pathSateType = pathDay + mapType +\"/\"\n",
    "\n",
    "    #filenames = sorted( (fn for fn in os.listdir( pathSateType ) if fn.endswith('.jpg')) )\n",
    "\n",
    "    images = []\n",
    "    for filename in os.listdir( pathSateType ):\n",
    "        im = Image.open( pathSateType + filename )\n",
    "        im_crop = im.crop((left, top, right, bottom)) \n",
    "        img = im_crop.resize(image_size , Image.ANTIALIAS)\n",
    "        \n",
    "        images.append(img)\n",
    "    images[0].save(pathDay + mapType + '.gif', format='GIF', append_images=images[1:], save_all=True, duration=100, loop=0)\n",
    "    \n"
   ]
  },
  {
   "cell_type": "code",
   "execution_count": 7,
   "metadata": {},
   "outputs": [],
   "source": [
    "#Create reader object for the gif\n",
    "\n",
    "#gif1 = imageio.get_reader(pathDay + mapTypes[0] + '.gif')\n",
    "gif2 = imageio.get_reader(pathDay + mapTypes[1] + '.gif')\n",
    "gif3 = imageio.get_reader(pathDay + mapTypes[2] + '.gif')\n",
    "gif4 = imageio.get_reader(pathDay + mapTypes[3] + '.gif')\n",
    "gif5 = imageio.get_reader(pathDay + mapTypes[4] + '.gif')\n",
    "\n",
    "#If they don't have the same number of frame take the shorter\n",
    "number_of_frames = min( gif2.get_length(),gif3.get_length(),gif4.get_length(),gif5.get_length(),) \n",
    "\n",
    "#Create writer object\n",
    "new_gif = imageio.get_writer(pathDay + 'output.gif')\n",
    "\n",
    "for frame_number in range(number_of_frames):\n",
    "    #img1 = gif1.get_next_data()\n",
    "    img2 = gif2.get_next_data()\n",
    "    img3 = gif3.get_next_data()\n",
    "    img4 = gif4.get_next_data()\n",
    "    img5 = gif5.get_next_data()\n",
    "    \n",
    "    #here is the magic\n",
    "    new_image = np.hstack((  img2,img3,img4,img5,))\n",
    "\n",
    "    new_gif.append_data(new_image)\n",
    "\n",
    "#gif1.close()\n",
    "gif2.close()\n",
    "gif3.close()\n",
    "gif4.close()\n",
    "gif5.close()\n",
    "\n",
    "new_gif.close()"
   ]
  },
  {
   "cell_type": "code",
   "execution_count": 16,
   "metadata": {},
   "outputs": [
    {
     "name": "stdout",
     "output_type": "stream",
     "text": [
      "data/20200112/output.gif\n"
     ]
    },
    {
     "ename": "FileNotFoundError",
     "evalue": "[WinError 2] 系統找不到指定的檔案。",
     "output_type": "error",
     "traceback": [
      "\u001b[1;31m---------------------------------------------------------------------------\u001b[0m",
      "\u001b[1;31mFileNotFoundError\u001b[0m                         Traceback (most recent call last)",
      "\u001b[1;32m<ipython-input-16-86191420f5e2>\u001b[0m in \u001b[0;36m<module>\u001b[1;34m\u001b[0m\n\u001b[0;32m      1\u001b[0m \u001b[0mprint\u001b[0m\u001b[1;33m(\u001b[0m\u001b[0mpathDay\u001b[0m \u001b[1;33m+\u001b[0m \u001b[1;34m'output.gif'\u001b[0m\u001b[1;33m)\u001b[0m\u001b[1;33m\u001b[0m\u001b[1;33m\u001b[0m\u001b[0m\n\u001b[1;32m----> 2\u001b[1;33m \u001b[0moptimize\u001b[0m\u001b[1;33m(\u001b[0m\u001b[0mpathDay\u001b[0m \u001b[1;33m+\u001b[0m \u001b[1;34m'output.gif'\u001b[0m \u001b[1;33m,\u001b[0m \u001b[0mpathDay\u001b[0m \u001b[1;33m+\u001b[0m \u001b[1;34m'_opt.gif'\u001b[0m\u001b[1;33m)\u001b[0m \u001b[1;31m# For creating a new one\u001b[0m\u001b[1;33m\u001b[0m\u001b[1;33m\u001b[0m\u001b[0m\n\u001b[0m\u001b[0;32m      3\u001b[0m \u001b[1;33m\u001b[0m\u001b[0m\n",
      "\u001b[1;32m~\\Anaconda3\\lib\\site-packages\\pygifsicle\\pygifsicle.py\u001b[0m in \u001b[0;36moptimize\u001b[1;34m(source, *args, **kwargs)\u001b[0m\n\u001b[0;32m     62\u001b[0m         \u001b[0mPath\u001b[0m \u001b[0mto\u001b[0m \u001b[0mgif\u001b[0m \u001b[0mimage\u001b[0m \u001b[0mto\u001b[0m \u001b[0moptimize\u001b[0m\u001b[1;33m.\u001b[0m\u001b[1;33m\u001b[0m\u001b[1;33m\u001b[0m\u001b[0m\n\u001b[0;32m     63\u001b[0m     \"\"\"\n\u001b[1;32m---> 64\u001b[1;33m     \u001b[0mgifsicle\u001b[0m\u001b[1;33m(\u001b[0m\u001b[0msource\u001b[0m\u001b[1;33m,\u001b[0m \u001b[1;33m*\u001b[0m\u001b[0margs\u001b[0m\u001b[1;33m,\u001b[0m \u001b[1;33m**\u001b[0m\u001b[0mkwargs\u001b[0m\u001b[1;33m,\u001b[0m \u001b[0moptimize\u001b[0m\u001b[1;33m=\u001b[0m\u001b[1;32mTrue\u001b[0m\u001b[1;33m)\u001b[0m\u001b[1;33m\u001b[0m\u001b[1;33m\u001b[0m\u001b[0m\n\u001b[0m",
      "\u001b[1;32m~\\Anaconda3\\lib\\site-packages\\pygifsicle\\pygifsicle.py\u001b[0m in \u001b[0;36mgifsicle\u001b[1;34m(sources, destination, optimize, colors, options)\u001b[0m\n\u001b[0;32m     51\u001b[0m         \u001b[0moptions\u001b[0m\u001b[1;33m.\u001b[0m\u001b[0mappend\u001b[0m\u001b[1;33m(\u001b[0m\u001b[1;34m\"--optimize\"\u001b[0m\u001b[1;33m)\u001b[0m\u001b[1;33m\u001b[0m\u001b[1;33m\u001b[0m\u001b[0m\n\u001b[0;32m     52\u001b[0m     subprocess.call([\"gifsicle\", *options, *sources, \"--colors\",\n\u001b[1;32m---> 53\u001b[1;33m                      str(colors), \"--output\", destination])\n\u001b[0m\u001b[0;32m     54\u001b[0m \u001b[1;33m\u001b[0m\u001b[0m\n\u001b[0;32m     55\u001b[0m \u001b[1;33m\u001b[0m\u001b[0m\n",
      "\u001b[1;32m~\\Anaconda3\\lib\\subprocess.py\u001b[0m in \u001b[0;36mcall\u001b[1;34m(timeout, *popenargs, **kwargs)\u001b[0m\n\u001b[0;32m    321\u001b[0m     \u001b[0mretcode\u001b[0m \u001b[1;33m=\u001b[0m \u001b[0mcall\u001b[0m\u001b[1;33m(\u001b[0m\u001b[1;33m[\u001b[0m\u001b[1;34m\"ls\"\u001b[0m\u001b[1;33m,\u001b[0m \u001b[1;34m\"-l\"\u001b[0m\u001b[1;33m]\u001b[0m\u001b[1;33m)\u001b[0m\u001b[1;33m\u001b[0m\u001b[1;33m\u001b[0m\u001b[0m\n\u001b[0;32m    322\u001b[0m     \"\"\"\n\u001b[1;32m--> 323\u001b[1;33m     \u001b[1;32mwith\u001b[0m \u001b[0mPopen\u001b[0m\u001b[1;33m(\u001b[0m\u001b[1;33m*\u001b[0m\u001b[0mpopenargs\u001b[0m\u001b[1;33m,\u001b[0m \u001b[1;33m**\u001b[0m\u001b[0mkwargs\u001b[0m\u001b[1;33m)\u001b[0m \u001b[1;32mas\u001b[0m \u001b[0mp\u001b[0m\u001b[1;33m:\u001b[0m\u001b[1;33m\u001b[0m\u001b[1;33m\u001b[0m\u001b[0m\n\u001b[0m\u001b[0;32m    324\u001b[0m         \u001b[1;32mtry\u001b[0m\u001b[1;33m:\u001b[0m\u001b[1;33m\u001b[0m\u001b[1;33m\u001b[0m\u001b[0m\n\u001b[0;32m    325\u001b[0m             \u001b[1;32mreturn\u001b[0m \u001b[0mp\u001b[0m\u001b[1;33m.\u001b[0m\u001b[0mwait\u001b[0m\u001b[1;33m(\u001b[0m\u001b[0mtimeout\u001b[0m\u001b[1;33m=\u001b[0m\u001b[0mtimeout\u001b[0m\u001b[1;33m)\u001b[0m\u001b[1;33m\u001b[0m\u001b[1;33m\u001b[0m\u001b[0m\n",
      "\u001b[1;32m~\\Anaconda3\\lib\\subprocess.py\u001b[0m in \u001b[0;36m__init__\u001b[1;34m(self, args, bufsize, executable, stdin, stdout, stderr, preexec_fn, close_fds, shell, cwd, env, universal_newlines, startupinfo, creationflags, restore_signals, start_new_session, pass_fds, encoding, errors, text)\u001b[0m\n\u001b[0;32m    773\u001b[0m                                 \u001b[0mc2pread\u001b[0m\u001b[1;33m,\u001b[0m \u001b[0mc2pwrite\u001b[0m\u001b[1;33m,\u001b[0m\u001b[1;33m\u001b[0m\u001b[1;33m\u001b[0m\u001b[0m\n\u001b[0;32m    774\u001b[0m                                 \u001b[0merrread\u001b[0m\u001b[1;33m,\u001b[0m \u001b[0merrwrite\u001b[0m\u001b[1;33m,\u001b[0m\u001b[1;33m\u001b[0m\u001b[1;33m\u001b[0m\u001b[0m\n\u001b[1;32m--> 775\u001b[1;33m                                 restore_signals, start_new_session)\n\u001b[0m\u001b[0;32m    776\u001b[0m         \u001b[1;32mexcept\u001b[0m\u001b[1;33m:\u001b[0m\u001b[1;33m\u001b[0m\u001b[1;33m\u001b[0m\u001b[0m\n\u001b[0;32m    777\u001b[0m             \u001b[1;31m# Cleanup if the child failed starting.\u001b[0m\u001b[1;33m\u001b[0m\u001b[1;33m\u001b[0m\u001b[1;33m\u001b[0m\u001b[0m\n",
      "\u001b[1;32m~\\Anaconda3\\lib\\subprocess.py\u001b[0m in \u001b[0;36m_execute_child\u001b[1;34m(self, args, executable, preexec_fn, close_fds, pass_fds, cwd, env, startupinfo, creationflags, shell, p2cread, p2cwrite, c2pread, c2pwrite, errread, errwrite, unused_restore_signals, unused_start_new_session)\u001b[0m\n\u001b[0;32m   1176\u001b[0m                                          \u001b[0menv\u001b[0m\u001b[1;33m,\u001b[0m\u001b[1;33m\u001b[0m\u001b[1;33m\u001b[0m\u001b[0m\n\u001b[0;32m   1177\u001b[0m                                          \u001b[0mos\u001b[0m\u001b[1;33m.\u001b[0m\u001b[0mfspath\u001b[0m\u001b[1;33m(\u001b[0m\u001b[0mcwd\u001b[0m\u001b[1;33m)\u001b[0m \u001b[1;32mif\u001b[0m \u001b[0mcwd\u001b[0m \u001b[1;32mis\u001b[0m \u001b[1;32mnot\u001b[0m \u001b[1;32mNone\u001b[0m \u001b[1;32melse\u001b[0m \u001b[1;32mNone\u001b[0m\u001b[1;33m,\u001b[0m\u001b[1;33m\u001b[0m\u001b[1;33m\u001b[0m\u001b[0m\n\u001b[1;32m-> 1178\u001b[1;33m                                          startupinfo)\n\u001b[0m\u001b[0;32m   1179\u001b[0m             \u001b[1;32mfinally\u001b[0m\u001b[1;33m:\u001b[0m\u001b[1;33m\u001b[0m\u001b[1;33m\u001b[0m\u001b[0m\n\u001b[0;32m   1180\u001b[0m                 \u001b[1;31m# Child is launched. Close the parent's copy of those pipe\u001b[0m\u001b[1;33m\u001b[0m\u001b[1;33m\u001b[0m\u001b[1;33m\u001b[0m\u001b[0m\n",
      "\u001b[1;31mFileNotFoundError\u001b[0m: [WinError 2] 系統找不到指定的檔案。"
     ]
    }
   ],
   "source": [
    "optimize(pathDay + 'output.gif' , pathDay + '_opt.gif') # For creating a new one\n",
    "\n"
   ]
  },
  {
   "cell_type": "code",
   "execution_count": null,
   "metadata": {
    "ExecuteTime": {
     "end_time": "2020-01-12T15:42:00.877647Z",
     "start_time": "2020-01-12T15:35:54.974074Z"
    }
   },
   "outputs": [],
   "source": [
    "\n",
    "for mapType in mapTypes:\n",
    "\n",
    "    pathSateType = pathDay + mapType +\"/\"\n",
    "    filenames = sorted((fn for fn in os.listdir(pathSateType) if fn.endswith('.jpg')))\n",
    "    images = []\n",
    "    for filename in filenames:\n",
    "        print(filename)\n",
    "        images.append( imageio.imread(pathSateType + filename) )\n",
    "    print(images.shape)\n",
    "    #imageio.mimsave(pathDay + mapType +'.gif', images)\n",
    "\n"
   ]
  },
  {
   "cell_type": "code",
   "execution_count": null,
   "metadata": {
    "ExecuteTime": {
     "end_time": "2020-01-12T15:55:09.024481Z",
     "start_time": "2020-01-12T15:51:24.298378Z"
    }
   },
   "outputs": [],
   "source": [
    "\n",
    "for mapType in mapTypes:     \n",
    "    pathSateType = pathDay + mapType +\"/\"\n",
    "    print(pathDay + mapType +'.gif')\n",
    "    optimize(pathDay + mapType +'.gif' , pathDay + mapType +'_opt.gif') # For creating a new one\n",
    "\n"
   ]
  },
  {
   "cell_type": "code",
   "execution_count": 22,
   "metadata": {
    "ExecuteTime": {
     "end_time": "2020-01-12T16:25:08.447113Z",
     "start_time": "2020-01-12T16:24:33.564033Z"
    }
   },
   "outputs": [],
   "source": [
    "#輸入gif，取出frame，切割後成新檔案\n",
    "\n",
    "def cropping(frames):\n",
    "    for frame in frames:\n",
    "        im_crop = frame.crop((left, top, right, bottom)) \n",
    "        yield im_crop\n",
    "\n",
    "def cropgif():\n",
    "    for mapType in mapTypes:\n",
    "        pathSateType = pathDay + mapType +\"/\"\n",
    "\n",
    "        # Open source\n",
    "        im = Image.open(pathDay + mapType +'_opt.gif')\n",
    "\n",
    "        # Get sequence iterator\n",
    "        frames = ImageSequence.Iterator(im)\n",
    "        frames = cropping(frames)\n",
    "        # Save output\n",
    "        om = next(frames) # Handle first frame separately\n",
    "        om.info = im.info # Copy sequence info\n",
    "        om.save(pathDay + mapType +'_crop.gif', save_all=True, append_images=list(frames))\n",
    "        \n",
    "        \n",
    "left  = 1288\n",
    "top   = 1308\n",
    "right = 1560\n",
    "bottom= 2152\n",
    "\n",
    "cropgif()\n"
   ]
  },
  {
   "cell_type": "code",
   "execution_count": null,
   "metadata": {
    "ExecuteTime": {
     "end_time": "2019-02-01T02:54:01.425015Z",
     "start_time": "2019-02-01T02:53:54.565513Z"
    }
   },
   "outputs": [],
   "source": [
    "#製作組圖\n",
    "\n",
    "from PIL import Image, ImageDraw, ImageFont\n",
    "import re\n",
    "\n",
    "\n",
    "\n",
    "\"\"\"檢查照片檔案是否存在\"\"\"\n",
    "def is_jpg(filename):\n",
    "    try:\n",
    "        i=Image.open(filename)\n",
    "        return i.format =='JPEG'\n",
    "    except IOError:\n",
    "        return False\n",
    "    except FileNotFoundError:\n",
    "        return False\n",
    "\n",
    "\n",
    "\"\"\"取得衛星照片的路徑\"\"\"\n",
    "def getMapPath(mapType,date):\n",
    "    fname = mapType + date.strftime(\"-%Y-%m-%d-%H-%M.jpg\")\n",
    "    path = pathDay + mapType + \"/\" + fname\n",
    "    return path\n",
    "\n",
    "\n",
    "def getRadarPath(date):\n",
    "    fname = \"radar\" + date.strftime(\"-%Y-%m-%d-%H-%M.png\")\n",
    "    path = pathDay + \"radar\" + \"/\" + fname    \n",
    "    return path\n",
    "\n",
    "\n",
    "\n",
    "\n",
    "\"\"\"取得天空拍照的照片路徑\"\"\"\n",
    "\n",
    "def getSkyPath(date):\n",
    "    imgNamePre =date.strftime(\"IMG_%Y%m%d_%H%M\")\n",
    "    for fname in os.listdir(pathDay + \"sky/\"):\n",
    "        if re.match(imgNamePre+\"\\d+.jpeg\", fname):\n",
    "            return pathDay + \"sky/\" +fname\n",
    "\n",
    "        \n",
    "\n",
    "\n",
    "##製作組圖\n",
    "def create_collage(width, height, listofimages, sky):\n",
    "    cols = 4\n",
    "    rows = 2\n",
    "    thumbnail_width = width//cols\n",
    "    thumbnail_height = height//rows\n",
    "    size = thumbnail_width, thumbnail_height\n",
    "    new_im = Image.new('RGB', (width, height))\n",
    "    ims = []\n",
    "    \n",
    "    \n",
    "\n",
    "    for p in listofimages:\n",
    "        im = Image.open(p)\n",
    "        im.thumbnail(size)\n",
    "        ims.append(im)\n",
    "    i = 0\n",
    "    x = 0\n",
    "    y = 0\n",
    "    for col in range(cols):\n",
    "        for row in range(rows):\n",
    "            if i < len(ims):\n",
    "                print(i, x, y)\n",
    "                new_im.paste(ims[i], (x, y))\n",
    "                i += 1\n",
    "                y += thumbnail_height\n",
    "        x += thumbnail_width\n",
    "        y = 0\n",
    "\n",
    "    #把天空攝影放在最右邊的欄\n",
    "    \n",
    "    imSky = Image.open(sky)\n",
    "    area = (416,4,416+1060,4+3076)   #切割天空\n",
    "    imSky = imSky.crop(area)    \n",
    "    \n",
    "    sizeSky = thumbnail_width , height\n",
    "    imSky.thumbnail(sizeSky)\n",
    "\n",
    "    x = thumbnail_width * 3\n",
    "\n",
    "    new_im.paste(imSky, (x, 0))\n",
    "\n",
    "\n",
    "    new_im.save(date.strftime(pathDay+\"%Y%m%d%H%M.jpg\"))\n",
    "    #new_im.show()\n",
    "\n",
    "\n",
    "date = datetime.datetime(2019, 1, 4, 5, 0, 0)\n",
    "pathDay = date.strftime(path+\"%Y%m%d/\")\n",
    "\n",
    "for i in range(90):\n",
    "    s3o = getMapPath(\"s3o\",date)\n",
    "    s3p = getMapPath(\"s3p\",date)\n",
    "    s3q = getMapPath(\"s3q\",date)\n",
    "    sbo = getMapPath(\"sbo\",date)\n",
    "    ts3p = getMapPath(\"ts3p\",date)\n",
    "    radar = getRadarPath(date)\n",
    "    sky = getSkyPath(date)\n",
    "\n",
    "    #檢查路徑是否存在，如果存在才進行下一步\n",
    "    #how?\n",
    "\n",
    "    listofimages=[ts3p,s3q,s3o,sbo,s3p,radar]\n",
    "    create_collage(2000, 1000, listofimages,sky)\n",
    "    date = date + datetime.timedelta(minutes = 10)\n"
   ]
  },
  {
   "cell_type": "code",
   "execution_count": 88,
   "metadata": {
    "ExecuteTime": {
     "end_time": "2018-12-31T04:11:49.802447Z",
     "start_time": "2018-12-31T04:11:49.769862Z"
    },
    "collapsed": true
   },
   "outputs": [],
   "source": [
    "from PIL import Image, ImageDraw, ImageFont\n",
    "\n",
    "size = 60,100  #真實衛星圖片縮小後的尺寸\n",
    "def cutSatelliteMapTs3p(date):\n",
    "    \"\"\"抓取真實色彩的圖片\"\"\"\n",
    "    fname= date.strftime(\"ts3p-%Y-%m-%d-%H-%M.jpg\")\n",
    "    file = pathDay + \"ts3p/\" + fname\n",
    "\n",
    "    img =Image.open(file)\n",
    "    #draw = ImageDraw.Draw(img)\n",
    "    #draw.rectangle(((1000, 750), (1000+88, 750+88)),  fill=None, outline=\"red\")\n",
    "\n",
    "    area = (700,500,700+600,500+1000)\n",
    "    img = img.crop(area)\n",
    "    img.thumbnail(size,Image.ANTIALIAS)\n",
    "    draw = ImageDraw.Draw(img)\n",
    "    draw.rectangle(((30,25),(34,29)),  fill=None, outline=\"red\")\n",
    "    return img\n",
    "    #img_ts3p.show()\n",
    "\n",
    "    \n",
    "    \n",
    "\n",
    "\"\"\"紅外線衛星雲圖切割\"\"\"\n",
    "def cutSatelliteMap(mapType,date):\n",
    "    fname = mapType + date.strftime(\"-%Y-%m-%d-%H-%M.jpg\")\n",
    "    img = Image.open(pathDay + mapType + \"/\" + fname)\n",
    "    area = (400,300,400+35,300+35)\n",
    "    img = img.crop(area)\n",
    "    #畫白框\n",
    "    draw = ImageDraw.Draw(img)\n",
    "    draw.rectangle(((0, 0), (img.size[0], img.size[1])),  fill=None, outline=\"white\")\n",
    "    #img.show()\n",
    "    return img\n",
    "    \n",
    "\n"
   ]
  },
  {
   "cell_type": "code",
   "execution_count": 63,
   "metadata": {
    "ExecuteTime": {
     "end_time": "2018-12-31T03:48:24.738373Z",
     "start_time": "2018-12-31T03:48:24.673467Z"
    },
    "collapsed": true
   },
   "outputs": [],
   "source": [
    "\n",
    "\n",
    "\n"
   ]
  },
  {
   "cell_type": "code",
   "execution_count": 89,
   "metadata": {
    "ExecuteTime": {
     "end_time": "2018-12-31T04:11:52.014924Z",
     "start_time": "2018-12-31T04:11:51.835237Z"
    }
   },
   "outputs": [
    {
     "name": "stdout",
     "output_type": "stream",
     "text": [
      "200 200\n"
     ]
    }
   ],
   "source": [
    "\"\"\"\"\n",
    "做出組圖\n",
    "\"\"\"\n",
    "import numpy as np\n",
    "\n",
    "#組圖的尺寸\n",
    "montage_w = 200\n",
    "montage_h = 200\n",
    "print(montage_w,montage_h)\n",
    "\n",
    "#產生白底的組圖\n",
    "montage = np.zeros([montage_h,montage_w,3],dtype=np.uint8)\n",
    "montage.fill(255)\n",
    "\n",
    "\n",
    "\n",
    "date = datetime.datetime(2018, 12, 30, 10, 50, 0)\n",
    "\n",
    "\n",
    "montage[0:35,0:35] = cutSatelliteMap(\"s3o\",date)\n",
    "montage[35:70,0:35] = cutSatelliteMap(\"s3p\",date)\n",
    "montage[70:105,0:35] = cutSatelliteMap(\"s3q\",date)\n",
    "\n",
    "montage[0:0+size[1],35:35+size[0]] = cutSatelliteMapTs3p(date)\n",
    "\n",
    "img = Image.fromarray(montage, 'RGB')\n",
    "img.show()\n",
    "\n"
   ]
  },
  {
   "cell_type": "code",
   "execution_count": null,
   "metadata": {
    "collapsed": true
   },
   "outputs": [],
   "source": [
    "\n"
   ]
  },
  {
   "cell_type": "code",
   "execution_count": 36,
   "metadata": {
    "ExecuteTime": {
     "end_time": "2018-12-31T02:50:26.332661Z",
     "start_time": "2018-12-31T02:50:26.307930Z"
    }
   },
   "outputs": [
    {
     "name": "stdout",
     "output_type": "stream",
     "text": [
      "IMG_20181230_1053\n",
      "IMG_20181230_105325.jpg\n"
     ]
    }
   ],
   "source": [
    "#抓天空拍照的照片，用檔名的日期時間來抓\n",
    "\n",
    "from PIL import Image, ImageDraw, ImageFont\n",
    "\n",
    "import re\n",
    "\n",
    "#date = start\n",
    "date = datetime.datetime(2018, 12, 30, 10, 53, 0)\n",
    "\n",
    "imgNamePre =date.strftime(\"IMG_%Y%m%d_%H%M\")\n",
    "print(imgNamePre)\n",
    "\n",
    "for filename in os.listdir(pathSky):\n",
    "    if re.match(imgNamePre+\"\\d+.jpg\", filename):\n",
    "        print(filename)\n",
    "\n"
   ]
  },
  {
   "cell_type": "code",
   "execution_count": null,
   "metadata": {
    "collapsed": true
   },
   "outputs": [],
   "source": []
  },
  {
   "cell_type": "code",
   "execution_count": null,
   "metadata": {
    "collapsed": true
   },
   "outputs": [],
   "source": []
  }
 ],
 "metadata": {
  "kernelspec": {
   "display_name": "Python 3",
   "language": "python",
   "name": "python3"
  },
  "language_info": {
   "codemirror_mode": {
    "name": "ipython",
    "version": 3
   },
   "file_extension": ".py",
   "mimetype": "text/x-python",
   "name": "python",
   "nbconvert_exporter": "python",
   "pygments_lexer": "ipython3",
   "version": "3.7.4"
  }
 },
 "nbformat": 4,
 "nbformat_minor": 2
}
